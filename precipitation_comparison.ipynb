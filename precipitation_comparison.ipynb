{
  "nbformat": 4,
  "nbformat_minor": 0,
  "metadata": {
    "colab": {
      "provenance": [],
      "collapsed_sections": [],
      "authorship_tag": "ABX9TyOp8otYs83gBXVHPzk3a8na",
      "include_colab_link": true
    },
    "kernelspec": {
      "name": "python3",
      "display_name": "Python 3"
    },
    "language_info": {
      "name": "python"
    }
  },
  "cells": [
    {
      "cell_type": "markdown",
      "metadata": {
        "id": "view-in-github",
        "colab_type": "text"
      },
      "source": [
        "<a href=\"https://colab.research.google.com/github/jschmidSTU/MAT502_Project/blob/main/precipitation_comparison.ipynb\" target=\"_parent\"><img src=\"https://colab.research.google.com/assets/colab-badge.svg\" alt=\"Open In Colab\"/></a>"
      ]
    },
    {
      "cell_type": "code",
      "execution_count": null,
      "metadata": {
        "colab": {
          "base_uri": "https://localhost:8080/"
        },
        "id": "fKLCCBXn-8d0",
        "outputId": "276550c7-3be9-4f10-d351-8a92112fc914"
      },
      "outputs": [
        {
          "output_type": "stream",
          "name": "stdout",
          "text": [
            "Mean Miami Period 1: 126.32249999999999\n",
            "Std Miami Period 1: 114.93157077184682\n",
            "Mean Miami Period 2: 150.58333333333334\n",
            "Std Miami Period 2: 120.97927132213954\n",
            "Paired t-Test Result Miami: Ttest_relResult(statistic=-2.271941062045987, pvalue=0.024886106153417648) \n",
            "\n",
            "Mean New York Period 1: 79.57000000000001\n",
            "Std New York Period 1: 43.25305565540326\n",
            "Mean New York Period 2: 95.22583333333334\n",
            "Std New York Period 2: 52.99964245294544\n",
            "Paired t-Test Result New York: Ttest_relResult(statistic=-2.751243589335059, pvalue=0.006865817218445165) \n",
            "\n",
            "Mean Los Angeles Period 1: 24.85916666666667\n",
            "Std Los Angeles Period 1: 46.77199926522392\n",
            "Mean Los Angeles Period 2: 20.075\n",
            "Std Los Angeles Period 2: 33.602393997346994\n",
            "Paired t-Test Result Los Angeles: Ttest_relResult(statistic=1.0541540822053177, pvalue=0.2939480171146695) \n",
            "\n"
          ]
        }
      ],
      "source": [
        "# Precipitation Comparison Time Period 1 vs Time Period 2\n",
        "\n",
        "\n",
        "# Import necessary libraries\n",
        "import pandas as pd\n",
        "import scipy.stats as st\n",
        "\n",
        "\n",
        "# Read Miami csv file\n",
        "miami = pd.read_csv(\"/content/Miami.csv\")\n",
        "\n",
        "# Split the DATE column into two columns YEAR and MONTH\n",
        "miami[['YEAR','MONTH']] = miami.DATE.str.split(\"-\",expand=True)\n",
        "miami['YEAR'] = miami['YEAR'].astype(int)\n",
        "\n",
        "# Create dataframe only with values of the first time period and compute mean and std of precipitation\n",
        "miami_period_1 = miami[miami['YEAR'] >= 1961]\n",
        "miami_period_1 = miami_period_1[miami_period_1['YEAR'] <= 1970]\n",
        "print(\"Mean Miami Period 1:\",miami_period_1[\"PRCP\"].mean())\n",
        "print(\"Std Miami Period 1:\",miami_period_1[\"PRCP\"].std())\n",
        "\n",
        "# Create dataframe only with values of the second time period and compute mean and std of precipitation\n",
        "miami_period_2 = miami[miami['YEAR'] >= 2011]\n",
        "miami_period_2 = miami_period_2[miami_period_2['YEAR'] <= 2020]\n",
        "print(\"Mean Miami Period 2:\",miami_period_2[\"PRCP\"].mean())\n",
        "print(\"Std Miami Period 2:\",miami_period_2[\"PRCP\"].std())\n",
        "\n",
        "# Perform paired t-Test to compare time period 1 and time period 2\n",
        "print(\"Paired t-Test Result Miami:\",st.ttest_rel(miami_period_1[\"PRCP\"], miami_period_2[\"PRCP\"]), \"\\n\")\n",
        "\n",
        "\n",
        "\n",
        "\n",
        "# Read New York csv file\n",
        "nyc = pd.read_csv(\"/content/NY_JFK.csv\")\n",
        "\n",
        "# Split the DATE column into two columns YEAR and MONTH\n",
        "nyc[['YEAR','MONTH']] = nyc.DATE.str.split(\"-\",expand=True)\n",
        "nyc['YEAR'] = nyc['YEAR'].astype(int)\n",
        "\n",
        "# Create dataframe only with values of the first time period and compute mean and std of precipitation\n",
        "nyc_period_1 = nyc[nyc['YEAR'] >= 1961]\n",
        "nyc_period_1 = nyc_period_1[nyc_period_1['YEAR'] <= 1970]\n",
        "print(\"Mean New York Period 1:\",nyc_period_1[\"PRCP\"].mean())\n",
        "print(\"Std New York Period 1:\",nyc_period_1[\"PRCP\"].std())\n",
        "\n",
        "# Create dataframe only with values of the second time period and compute mean and std of precipitation\n",
        "nyc_period_2 = nyc[nyc['YEAR'] >= 2011]\n",
        "nyc_period_2 = nyc_period_2[nyc_period_2['YEAR'] <= 2020]\n",
        "print(\"Mean New York Period 2:\",nyc_period_2[\"PRCP\"].mean())\n",
        "print(\"Std New York Period 2:\",nyc_period_2[\"PRCP\"].std())\n",
        "\n",
        "# Perform paired t-Test to compare time period 1 and time period 2\n",
        "print(\"Paired t-Test Result New York:\",st.ttest_rel(nyc_period_1[\"PRCP\"], nyc_period_2[\"PRCP\"]), \"\\n\")\n",
        "\n",
        "\n",
        "\n",
        "# Read Los Angeles csv file\n",
        "lax = pd.read_csv(\"/content/LAX.csv\")\n",
        "\n",
        "# Split the DATE column into two columns YEAR and MONTH\n",
        "lax[['YEAR','MONTH']] = lax.DATE.str.split(\"-\",expand=True)\n",
        "lax['YEAR'] = lax['YEAR'].astype(int)\n",
        "\n",
        "# Create dataframe only with values of the first time period and compute mean and std of precipitation\n",
        "lax_period_1 = lax[lax['YEAR'] >= 1961]\n",
        "lax_period_1 = lax_period_1[lax_period_1['YEAR'] <= 1970]\n",
        "print(\"Mean Los Angeles Period 1:\",lax_period_1[\"PRCP\"].mean())\n",
        "print(\"Std Los Angeles Period 1:\",lax_period_1[\"PRCP\"].std())\n",
        "\n",
        "# Create dataframe only with values of the second time period and compute mean and std of precipitation\n",
        "lax_period_2 = lax[lax['YEAR'] >= 2011]\n",
        "lax_period_2 = lax_period_2[lax_period_2['YEAR'] <= 2020]\n",
        "print(\"Mean Los Angeles Period 2:\",lax_period_2[\"PRCP\"].mean())\n",
        "print(\"Std Los Angeles Period 2:\",lax_period_2[\"PRCP\"].std())\n",
        "\n",
        "# Perform paired t-Test to compare time period 1 and time period 2\n",
        "print(\"Paired t-Test Result Los Angeles:\",st.ttest_rel(lax_period_1[\"PRCP\"], lax_period_2[\"PRCP\"]), \"\\n\")"
      ]
    }
  ]
}