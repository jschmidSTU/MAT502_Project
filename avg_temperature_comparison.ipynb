{
  "nbformat": 4,
  "nbformat_minor": 0,
  "metadata": {
    "colab": {
      "provenance": [],
      "collapsed_sections": [],
      "authorship_tag": "ABX9TyMpsk9eD2JCC0IdIkCtVcSB",
      "include_colab_link": true
    },
    "kernelspec": {
      "name": "python3",
      "display_name": "Python 3"
    },
    "language_info": {
      "name": "python"
    }
  },
  "cells": [
    {
      "cell_type": "markdown",
      "metadata": {
        "id": "view-in-github",
        "colab_type": "text"
      },
      "source": [
        "<a href=\"https://colab.research.google.com/github/jschmidSTU/MAT502_Project/blob/main/avg_temperature_comparison.ipynb\" target=\"_parent\"><img src=\"https://colab.research.google.com/assets/colab-badge.svg\" alt=\"Open In Colab\"/></a>"
      ]
    },
    {
      "cell_type": "code",
      "execution_count": null,
      "metadata": {
        "colab": {
          "base_uri": "https://localhost:8080/"
        },
        "id": "PsQa7nPE9U9X",
        "outputId": "7c4e34fa-39b6-4b5e-9188-a06b7dad00fd"
      },
      "outputs": [
        {
          "output_type": "stream",
          "name": "stdout",
          "text": [
            "Mean Miami Period 1: 24.06816666666667\n",
            "Std Miami Period 1: 3.424095533727065\n",
            "Mean Miami Period 2: 25.740166666666664\n",
            "Std Miami Period 2: 2.9689604278954214\n",
            "Paired t-Test Result Miami: Ttest_relResult(statistic=-11.646657939092128, pvalue=2.1820489878933344e-21)\n",
            "Left-tailed p-value for Miami: 1.0910244939466672e-21 \n",
            "\n",
            "Mean New York Period 1: 11.528583333333332\n",
            "Std New York Period 1: 8.994246928349435\n",
            "Mean New York Period 2: 13.074833333333334\n",
            "Std New York Period 2: 8.672926965959228\n",
            "Paired t-Test Result New York: Ttest_relResult(statistic=-8.043337157276218, pvalue=7.323339893932931e-13)\n",
            "Left-tailed p-value for New York: 3.6616699469664654e-13 \n",
            "\n",
            "Mean Los Angeles Period 1: 16.895416666666666\n",
            "Std Los Angeles Period 1: 3.0345633318232026\n",
            "Mean Los Angeles Period 2: 18.017166666666665\n",
            "Std Los Angeles Period 2: 2.959933903229022\n",
            "Paired t-Test Result Los Angeles: Ttest_relResult(statistic=-7.816156168118457, pvalue=2.4230227848598587e-12)\n",
            "Left-tailed p-value for Los Angeles: 1.2115113924299294e-12\n"
          ]
        }
      ],
      "source": [
        "# Average Temperature Period 1 vs Average Temperature Period 2\n",
        "\n",
        "\n",
        "# Import necessary libraries\n",
        "import pandas as pd\n",
        "import scipy.stats as st\n",
        "\n",
        "\n",
        "# Read Miami csv file\n",
        "miami = pd.read_csv(\"/content/Miami.csv\")\n",
        "\n",
        "# Split the DATE column into two columns YEAR and MONTH\n",
        "miami[['YEAR','MONTH']] = miami.DATE.str.split(\"-\",expand=True)\n",
        "miami['YEAR'] = miami['YEAR'].astype(int)\n",
        "\n",
        "# Create dataframe only with values of the first time period and compute mean and std of average temperature\n",
        "miami_period_1 = miami[miami['YEAR'] >= 1961]\n",
        "miami_period_1 = miami_period_1[miami_period_1['YEAR'] <= 1970]\n",
        "print(\"Mean Miami Period 1:\",miami_period_1[\"TAVG\"].mean())\n",
        "print(\"Std Miami Period 1:\",miami_period_1[\"TAVG\"].std())\n",
        "\n",
        "# Create dataframe only with values of the second time period and compute mean and std of average temperature\n",
        "miami_period_2 = miami[miami['YEAR'] >= 2011]\n",
        "miami_period_2 = miami_period_2[miami_period_2['YEAR'] <= 2020]\n",
        "print(\"Mean Miami Period 2:\",miami_period_2[\"TAVG\"].mean())\n",
        "print(\"Std Miami Period 2:\",miami_period_2[\"TAVG\"].std())\n",
        "\n",
        "# Perform paired t-test and return left-tailed p-value\n",
        "print(\"Paired t-Test Result Miami:\",st.ttest_rel(miami_period_1[\"TAVG\"], miami_period_2[\"TAVG\"]))\n",
        "print(\"Left-tailed p-value for Miami:\", 1/2 * st.ttest_rel(miami_period_1[\"TAVG\"], miami_period_2[\"TAVG\"])[1], \"\\n\")\n",
        "\n",
        "\n",
        "\n",
        "# Read New York csv file\n",
        "nyc = pd.read_csv(\"/content/NY_JFK.csv\")\n",
        "\n",
        "# Split the DATE column into two columns YEAR and MONTH\n",
        "nyc[['YEAR','MONTH']] = nyc.DATE.str.split(\"-\",expand=True)\n",
        "nyc['YEAR'] = nyc['YEAR'].astype(int)\n",
        "\n",
        "# Create dataframe only with values of the first time period and compute mean and std of average temperature\n",
        "nyc_period_1 = nyc[nyc['YEAR'] >= 1961]\n",
        "nyc_period_1 = nyc_period_1[nyc_period_1['YEAR'] <= 1970]\n",
        "print(\"Mean New York Period 1:\",nyc_period_1[\"TAVG\"].mean())\n",
        "print(\"Std New York Period 1:\",nyc_period_1[\"TAVG\"].std())\n",
        "\n",
        "# Create dataframe only with values of the second time period and compute mean and std of average temperature\n",
        "nyc_period_2 = nyc[nyc['YEAR'] >= 2011]\n",
        "nyc_period_2 = nyc_period_2[nyc_period_2['YEAR'] <= 2020]\n",
        "print(\"Mean New York Period 2:\",nyc_period_2[\"TAVG\"].mean())\n",
        "print(\"Std New York Period 2:\",nyc_period_2[\"TAVG\"].std())\n",
        "\n",
        "# Perform paired t-test and return left-tailed p-value\n",
        "print(\"Paired t-Test Result New York:\",st.ttest_rel(nyc_period_1[\"TAVG\"], nyc_period_2[\"TAVG\"]))\n",
        "print(\"Left-tailed p-value for New York:\", 1/2 * st.ttest_rel(nyc_period_1[\"TAVG\"], nyc_period_2[\"TAVG\"])[1], \"\\n\")\n",
        "\n",
        "\n",
        "\n",
        "# Read Los Angeles csv file\n",
        "lax = pd.read_csv(\"/content/LAX.csv\")\n",
        "\n",
        "# Split the DATE column into two columns YEAR and MONTH\n",
        "lax[['YEAR','MONTH']] = lax.DATE.str.split(\"-\",expand=True)\n",
        "lax['YEAR'] = lax['YEAR'].astype(int)\n",
        "\n",
        "# Create dataframe only with values of the first time period and compute mean and std of average temperature\n",
        "lax_period_1 = lax[lax['YEAR'] >= 1961]\n",
        "lax_period_1 = lax_period_1[lax_period_1['YEAR'] <= 1970]\n",
        "print(\"Mean Los Angeles Period 1:\",lax_period_1[\"TAVG\"].mean())\n",
        "print(\"Std Los Angeles Period 1:\",lax_period_1[\"TAVG\"].std())\n",
        "\n",
        "# Create dataframe only with values of the second time period and compute mean and std of average temperature\n",
        "lax_period_2 = lax[lax['YEAR'] >= 2011]\n",
        "lax_period_2 = lax_period_2[lax_period_2['YEAR'] <= 2020]\n",
        "print(\"Mean Los Angeles Period 2:\",lax_period_2[\"TAVG\"].mean())\n",
        "print(\"Std Los Angeles Period 2:\",lax_period_2[\"TAVG\"].std())\n",
        "\n",
        "# Perform paired t-test and return left-tailed p-value\n",
        "print(\"Paired t-Test Result Los Angeles:\",st.ttest_rel(lax_period_1[\"TAVG\"], lax_period_2[\"TAVG\"]))\n",
        "print(\"Left-tailed p-value for Los Angeles:\", 1/2 * st.ttest_rel(lax_period_1[\"TAVG\"], lax_period_2[\"TAVG\"])[1])"
      ]
    }
  ]
}